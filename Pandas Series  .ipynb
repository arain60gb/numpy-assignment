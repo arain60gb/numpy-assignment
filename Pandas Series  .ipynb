{
 "cells": [
  {
   "cell_type": "code",
   "execution_count": 1,
   "metadata": {},
   "outputs": [
    {
     "name": "stdout",
     "output_type": "stream",
     "text": [
      "0    1\n",
      "1    2\n",
      "2    3\n",
      "3    4\n",
      "4    5\n",
      "dtype: int64\n"
     ]
    }
   ],
   "source": [
    "import pandas as pd\n",
    "obj = pd.Series([1,2,3,4,5])\n",
    "print(obj)"
   ]
  },
  {
   "cell_type": "code",
   "execution_count": 2,
   "metadata": {},
   "outputs": [
    {
     "data": {
      "text/plain": [
       "0    1\n",
       "1    2\n",
       "2    3\n",
       "3    4\n",
       "4    5\n",
       "dtype: int64"
      ]
     },
     "execution_count": 2,
     "metadata": {},
     "output_type": "execute_result"
    }
   ],
   "source": [
    "obj"
   ]
  },
  {
   "cell_type": "code",
   "execution_count": 3,
   "metadata": {},
   "outputs": [
    {
     "name": "stdout",
     "output_type": "stream",
     "text": [
      "[100 200 300 400]\n",
      "RangeIndex(start=0, stop=4, step=1)\n"
     ]
    }
   ],
   "source": [
    "sales = pd.Series([100,200,300,400])\n",
    "print(sales.values)\n",
    "print(sales.index)"
   ]
  },
  {
   "cell_type": "code",
   "execution_count": 4,
   "metadata": {},
   "outputs": [
    {
     "name": "stdout",
     "output_type": "stream",
     "text": [
      "a    100\n",
      "b    200\n",
      "c    300\n",
      "d    400\n",
      "e    500\n",
      "dtype: int64\n"
     ]
    }
   ],
   "source": [
    "sales = pd.Series([100,200,300,400,500], index = ['a','b','c','d','e'])\n",
    "print(sales)"
   ]
  },
  {
   "cell_type": "code",
   "execution_count": 8,
   "metadata": {},
   "outputs": [
    {
     "name": "stdout",
     "output_type": "stream",
     "text": [
      "jan    100\n",
      "feb    200\n",
      "mar    300\n",
      "apr    400\n",
      "may    500\n",
      "dtype: int64\n",
      "[100 200 300 400 500]\n",
      "Index(['jan', 'feb', 'mar', 'apr', 'may'], dtype='object')\n"
     ]
    }
   ],
   "source": [
    "sales = pd.Series([100,200,300,400,500], index = ['jan','feb','mar','apr','may'])\n",
    "print(sales)\n",
    "print(sales.values)\n",
    "print(sales.index)"
   ]
  },
  {
   "cell_type": "code",
   "execution_count": 9,
   "metadata": {},
   "outputs": [
    {
     "name": "stdout",
     "output_type": "stream",
     "text": [
      "jan    100\n",
      "feb    200\n",
      "mar    300\n",
      "apr    400\n",
      "may    500\n",
      "Name: 5 mounth series, dtype: int64\n",
      "[100 200 300 400 500]\n",
      "Index(['jan', 'feb', 'mar', 'apr', 'may'], dtype='object')\n"
     ]
    }
   ],
   "source": [
    "sales = pd.Series([100,200,300,400,500], index = ['jan','feb','mar','apr','may'], name = \"5 mounth series\")\n",
    "print(sales)\n",
    "print(sales.values)\n",
    "print(sales.index)"
   ]
  },
  {
   "cell_type": "markdown",
   "metadata": {},
   "source": [
    "Canteen data and hold values pervious week"
   ]
  },
  {
   "cell_type": "code",
   "execution_count": 13,
   "metadata": {},
   "outputs": [
    {
     "data": {
      "text/plain": [
       "Mon    20\n",
       "Tue    30\n",
       "Wed    40\n",
       "Tur    60\n",
       "Fri    70\n",
       "Sat    80\n",
       "Sun     0\n",
       "dtype: int64"
      ]
     },
     "execution_count": 13,
     "metadata": {},
     "output_type": "execute_result"
    }
   ],
   "source": [
    "sw = pd.Series([20,30,40,60,70,80,0],index = ['Mon','Tue','Wed','Tur','Fri','Sat','Sun'])\n",
    "sw"
   ]
  },
  {
   "cell_type": "markdown",
   "metadata": {},
   "source": [
    "# Accessing values in data seires "
   ]
  },
  {
   "cell_type": "code",
   "execution_count": 16,
   "metadata": {},
   "outputs": [
    {
     "name": "stdout",
     "output_type": "stream",
     "text": [
      "30\n",
      "30\n",
      "0\n"
     ]
    }
   ],
   "source": [
    "print(sw[1]) #Numpy Method\n",
    "print(sw['Tue'])#Pandas Method\n",
    "print(sw['Sun'])"
   ]
  },
  {
   "cell_type": "markdown",
   "metadata": {},
   "source": [
    "# Accessing multipals values"
   ]
  },
  {
   "cell_type": "code",
   "execution_count": 19,
   "metadata": {},
   "outputs": [
    {
     "name": "stdout",
     "output_type": "stream",
     "text": [
      "Tur    60\n",
      "Sat    80\n",
      "dtype: int64\n",
      "Sun     0\n",
      "Tue    30\n",
      "dtype: int64\n"
     ]
    }
   ],
   "source": [
    "print(sw[ [3,5] ])\n",
    "print(sw[ ['Sun','Tue' ] ])"
   ]
  },
  {
   "cell_type": "markdown",
   "metadata": {},
   "source": [
    "# Conditional selection"
   ]
  },
  {
   "cell_type": "code",
   "execution_count": 20,
   "metadata": {},
   "outputs": [
    {
     "name": "stdout",
     "output_type": "stream",
     "text": [
      "Tue    30\n",
      "Wed    40\n",
      "Tur    60\n",
      "Fri    70\n",
      "Sat    80\n",
      "dtype: int64\n"
     ]
    }
   ],
   "source": [
    "print(sw[sw>20])"
   ]
  },
  {
   "cell_type": "code",
   "execution_count": 23,
   "metadata": {},
   "outputs": [
    {
     "name": "stdout",
     "output_type": "stream",
     "text": [
      "Mon    20\n",
      "Tue    30\n",
      "Wed    40\n",
      "Tur    60\n",
      "Fri    70\n",
      "Sat    80\n",
      "Sun     0\n",
      "dtype: int64\n"
     ]
    }
   ],
   "source": [
    "sw*2\n",
    "print(sw)"
   ]
  },
  {
   "cell_type": "code",
   "execution_count": 24,
   "metadata": {},
   "outputs": [
    {
     "data": {
      "text/plain": [
       "Mon     40\n",
       "Tue     60\n",
       "Wed     80\n",
       "Tur    120\n",
       "Fri    140\n",
       "Sat    160\n",
       "Sun      0\n",
       "dtype: int64"
      ]
     },
     "execution_count": 24,
     "metadata": {},
     "output_type": "execute_result"
    }
   ],
   "source": [
    "sw = sw*2\n",
    "sw"
   ]
  },
  {
   "cell_type": "code",
   "execution_count": 25,
   "metadata": {},
   "outputs": [
    {
     "data": {
      "text/plain": [
       "Mon    20.0\n",
       "Tue    30.0\n",
       "Wed    40.0\n",
       "Tur    60.0\n",
       "Fri    70.0\n",
       "Sat    80.0\n",
       "Sun     0.0\n",
       "dtype: float64"
      ]
     },
     "execution_count": 25,
     "metadata": {},
     "output_type": "execute_result"
    }
   ],
   "source": [
    "sw = sw/2\n",
    "sw"
   ]
  },
  {
   "cell_type": "code",
   "execution_count": 6,
   "metadata": {},
   "outputs": [
    {
     "ename": "NameError",
     "evalue": "name 'sw' is not defined",
     "output_type": "error",
     "traceback": [
      "\u001b[1;31m---------------------------------------------------------------------------\u001b[0m",
      "\u001b[1;31mNameError\u001b[0m                                 Traceback (most recent call last)",
      "\u001b[1;32m<ipython-input-6-4d3f68a4f8cc>\u001b[0m in \u001b[0;36m<module>\u001b[1;34m\u001b[0m\n\u001b[1;32m----> 1\u001b[1;33m \u001b[0msw\u001b[0m\u001b[1;33m=\u001b[0m \u001b[0msw\u001b[0m\u001b[1;33m//\u001b[0m\u001b[1;36m2\u001b[0m\u001b[1;33m\u001b[0m\u001b[1;33m\u001b[0m\u001b[0m\n\u001b[0m\u001b[0;32m      2\u001b[0m \u001b[0msw\u001b[0m\u001b[1;33m\u001b[0m\u001b[1;33m\u001b[0m\u001b[0m\n",
      "\u001b[1;31mNameError\u001b[0m: name 'sw' is not defined"
     ]
    }
   ],
   "source": [
    "sw= sw//2\n",
    "sw\n"
   ]
  },
  {
   "cell_type": "code",
   "execution_count": 11,
   "metadata": {},
   "outputs": [],
   "source": [
    "import numpy as np\n",
    "arr = np.array([3,2,4,5,6])\n",
    "ing = np.array(['a','b','c','d','e'])"
   ]
  },
  {
   "cell_type": "code",
   "execution_count": 12,
   "metadata": {},
   "outputs": [
    {
     "data": {
      "text/plain": [
       "array(['a', 'b', 'c', 'd', 'e'], dtype='<U1')"
      ]
     },
     "execution_count": 12,
     "metadata": {},
     "output_type": "execute_result"
    }
   ],
   "source": [
    "ing"
   ]
  },
  {
   "cell_type": "code",
   "execution_count": 14,
   "metadata": {},
   "outputs": [
    {
     "name": "stdout",
     "output_type": "stream",
     "text": [
      "a    3\n",
      "b    2\n",
      "c    4\n",
      "d    5\n",
      "e    6\n",
      "dtype: int32\n"
     ]
    }
   ],
   "source": [
    "obj2 = pd.Series(arr,index=ing)\n",
    "print(obj2)"
   ]
  },
  {
   "cell_type": "code",
   "execution_count": 16,
   "metadata": {},
   "outputs": [
    {
     "name": "stdout",
     "output_type": "stream",
     "text": [
      "sindh          35000\n",
      "punjab         45000\n",
      "kpk             3000\n",
      "balochistan     2000\n",
      "dtype: int64\n",
      "Index(['sindh', 'punjab', 'kpk', 'balochistan'], dtype='object')\n"
     ]
    }
   ],
   "source": [
    "sdate = {\"sindh\":35000,\"punjab\":45000,\"kpk\":3000,\"balochistan\":2000}\n",
    "tax_by_state= pd.Series(sdate)\n",
    "print(tax_by_state)\n",
    "print(tax_by_state.index)"
   ]
  },
  {
   "cell_type": "code",
   "execution_count": 18,
   "metadata": {},
   "outputs": [
    {
     "name": "stdout",
     "output_type": "stream",
     "text": [
      "punjab         45000\n",
      "sindh          35000\n",
      "balochistan     2000\n",
      "kpk             3000\n",
      "dtype: int64\n",
      "Index(['punjab', 'sindh', 'balochistan', 'kpk'], dtype='object')\n"
     ]
    }
   ],
   "source": [
    "#changing order\n",
    "sdate = {\"sindh\":35000,\"punjab\":45000,\"kpk\":3000,\"balochistan\":2000}\n",
    "tax_by_state= pd.Series(sdate,index=[\"punjab\",\"sindh\",\"balochistan\",\"kpk\",])\n",
    "print(tax_by_state)\n",
    "print(tax_by_state.index)"
   ]
  },
  {
   "cell_type": "code",
   "execution_count": 20,
   "metadata": {},
   "outputs": [
    {
     "name": "stdout",
     "output_type": "stream",
     "text": [
      "punjab         45000.0\n",
      "sindh          35000.0\n",
      "balochistan     2000.0\n",
      "kpk             3000.0\n",
      "gb                 NaN\n",
      "dtype: float64\n",
      "punjab         False\n",
      "sindh          False\n",
      "balochistan    False\n",
      "kpk            False\n",
      "gb              True\n",
      "dtype: bool\n"
     ]
    }
   ],
   "source": [
    "#Missing value or NaN value \n",
    "sdate = {\"sindh\":35000,\"punjab\":45000,\"kpk\":3000,\"balochistan\":2000}\n",
    "tax_by_state= pd.Series(sdate,index=[\"punjab\",\"sindh\",\"balochistan\",\"kpk\",\"gb\"])\n",
    "print(tax_by_state)\n",
    "print(pd.isnull(tax_by_state))"
   ]
  },
  {
   "cell_type": "code",
   "execution_count": 21,
   "metadata": {},
   "outputs": [
    {
     "data": {
      "text/plain": [
       "punjab         False\n",
       "sindh          False\n",
       "balochistan    False\n",
       "kpk            False\n",
       "gb              True\n",
       "dtype: bool"
      ]
     },
     "execution_count": 21,
     "metadata": {},
     "output_type": "execute_result"
    }
   ],
   "source": [
    "#Find the missing value \n",
    "pd.isnull(tax_by_state) # Series method find the missing value\n",
    "tax_by_state.isnull() # Function"
   ]
  },
  {
   "cell_type": "code",
   "execution_count": 23,
   "metadata": {},
   "outputs": [
    {
     "name": "stdout",
     "output_type": "stream",
     "text": [
      "state name\n",
      "punjab         45000.0\n",
      "sindh          35000.0\n",
      "balochistan     2000.0\n",
      "kpk             3000.0\n",
      "gb                 NaN\n",
      "Name: state tax paying capicity, dtype: float64\n",
      "Index(['punjab', 'sindh', 'balochistan', 'kpk', 'gb'], dtype='object', name='state name')\n"
     ]
    }
   ],
   "source": [
    "# Set the name\n",
    "tax_by_state.name = \"state tax paying capicity\"\n",
    "tax_by_state.index.name = \"state name\"\n",
    "print(tax_by_state)\n",
    "print(tax_by_state.index)"
   ]
  },
  {
   "cell_type": "code",
   "execution_count": 25,
   "metadata": {},
   "outputs": [
    {
     "name": "stdout",
     "output_type": "stream",
     "text": [
      "state name\n",
      "punjab         45000.0\n",
      "sindh          35000.0\n",
      "balochistan     2000.0\n",
      "kpk             3000.0\n",
      "gb                 NaN\n",
      "Name: state tax paying capicity, dtype: float64\n",
      "P    45000.0\n",
      "S    35000.0\n",
      "B     2000.0\n",
      "K     3000.0\n",
      "G        NaN\n",
      "Name: state tax paying capicity, dtype: float64\n"
     ]
    }
   ],
   "source": [
    "# Change the name of indexing \n",
    "print(tax_by_state)\n",
    "tax_by_state.index = ['P','S','B','K','G']\n",
    "print(tax_by_state)"
   ]
  },
  {
   "cell_type": "code",
   "execution_count": null,
   "metadata": {},
   "outputs": [],
   "source": []
  }
 ],
 "metadata": {
  "kernelspec": {
   "display_name": "Python 3",
   "language": "python",
   "name": "python3"
  },
  "language_info": {
   "codemirror_mode": {
    "name": "ipython",
    "version": 3
   },
   "file_extension": ".py",
   "mimetype": "text/x-python",
   "name": "python",
   "nbconvert_exporter": "python",
   "pygments_lexer": "ipython3",
   "version": "3.8.5"
  }
 },
 "nbformat": 4,
 "nbformat_minor": 4
}
